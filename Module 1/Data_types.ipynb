{
  "nbformat": 4,
  "nbformat_minor": 0,
  "metadata": {
    "colab": {
      "provenance": [],
      "authorship_tag": "ABX9TyPiHM3j8uENpOw3QkYyO2oy",
      "include_colab_link": true
    },
    "kernelspec": {
      "name": "python3",
      "display_name": "Python 3"
    },
    "language_info": {
      "name": "python"
    }
  },
  "cells": [
    {
      "cell_type": "markdown",
      "metadata": {
        "id": "view-in-github",
        "colab_type": "text"
      },
      "source": [
        "<a href=\"https://colab.research.google.com/github/Shubhamdiwakarkadam/python-for-beginners/blob/main/Module%201/Data_types.ipynb\" target=\"_parent\"><img src=\"https://colab.research.google.com/assets/colab-badge.svg\" alt=\"Open In Colab\"/></a>"
      ]
    },
    {
      "cell_type": "code",
      "execution_count": null,
      "metadata": {
        "id": "LIWKL8Il5RsW"
      },
      "outputs": [],
      "source": [
        "#integers\n",
        "#floats\n",
        "#booleans\n",
        "#strings\n",
        "#none"
      ]
    },
    {
      "cell_type": "code",
      "source": [
        "number = 25\n",
        "print(number)"
      ],
      "metadata": {
        "colab": {
          "base_uri": "https://localhost:8080/"
        },
        "id": "w70MR1_T5qNu",
        "outputId": "b75b03f1-6109-40eb-d29d-73ae55b38741"
      },
      "execution_count": 3,
      "outputs": [
        {
          "output_type": "stream",
          "name": "stdout",
          "text": [
            "25\n"
          ]
        }
      ]
    },
    {
      "cell_type": "code",
      "source": [
        "a = 100\n",
        "print(type(a))\n",
        "print(a)"
      ],
      "metadata": {
        "colab": {
          "base_uri": "https://localhost:8080/"
        },
        "id": "n2KknTX96QF9",
        "outputId": "e531bb10-b444-4876-fb16-3957ce65314c"
      },
      "execution_count": 5,
      "outputs": [
        {
          "output_type": "stream",
          "name": "stdout",
          "text": [
            "<class 'int'>\n",
            "100\n"
          ]
        }
      ]
    },
    {
      "cell_type": "code",
      "source": [
        "print(\"a\");"
      ],
      "metadata": {
        "colab": {
          "base_uri": "https://localhost:8080/"
        },
        "id": "xe-BdJTP6bBK",
        "outputId": "80e9a463-6283-4dfb-a91f-0069e285788f"
      },
      "execution_count": 6,
      "outputs": [
        {
          "output_type": "stream",
          "name": "stdout",
          "text": [
            "a\n"
          ]
        }
      ]
    },
    {
      "cell_type": "markdown",
      "source": [
        "float"
      ],
      "metadata": {
        "id": "NAN7rzG_6id4"
      }
    },
    {
      "cell_type": "code",
      "source": [
        "b = 1.5\n",
        "print(b)\n",
        "print(type(b))"
      ],
      "metadata": {
        "id": "hjxm8jEf6h3J",
        "outputId": "fe6d307f-ab0f-4984-9998-c20be1fb9ef3",
        "colab": {
          "base_uri": "https://localhost:8080/"
        }
      },
      "execution_count": 7,
      "outputs": [
        {
          "output_type": "stream",
          "name": "stdout",
          "text": [
            "1.5\n",
            "<class 'float'>\n"
          ]
        }
      ]
    },
    {
      "cell_type": "markdown",
      "source": [
        "boolean\n"
      ],
      "metadata": {
        "id": "1cOWCRye8XDF"
      }
    },
    {
      "cell_type": "code",
      "source": [
        "c = True\n",
        "print(c)\n",
        "print(type(c))\n",
        "\n",
        "c1 = False\n",
        "print(c1)\n",
        "print(type(c1))"
      ],
      "metadata": {
        "id": "1P4GlyUX8Zuc",
        "outputId": "03050259-130c-4407-f518-3adc63da9a65",
        "colab": {
          "base_uri": "https://localhost:8080/"
        }
      },
      "execution_count": 10,
      "outputs": [
        {
          "output_type": "stream",
          "name": "stdout",
          "text": [
            "True\n",
            "<class 'bool'>\n",
            "False\n",
            "<class 'bool'>\n"
          ]
        }
      ]
    },
    {
      "cell_type": "markdown",
      "source": [
        "Strings"
      ],
      "metadata": {
        "id": "0vsSTUwY8yEG"
      }
    },
    {
      "cell_type": "code",
      "source": [
        "D = 'my @ 123 +'\n",
        "print(D)"
      ],
      "metadata": {
        "id": "uwe5j7ui8wfJ",
        "outputId": "a98fba30-9762-47bc-a261-19a7618ad0ea",
        "colab": {
          "base_uri": "https://localhost:8080/"
        }
      },
      "execution_count": 11,
      "outputs": [
        {
          "output_type": "stream",
          "name": "stdout",
          "text": [
            "my @ 123 +\n"
          ]
        }
      ]
    },
    {
      "cell_type": "code",
      "source": [
        "E =\"dfghjk\"\n",
        "print(E)"
      ],
      "metadata": {
        "id": "2fuVjlBs9Ugc",
        "outputId": "8888b12e-bf39-4f43-d4dd-b680d567d8ef",
        "colab": {
          "base_uri": "https://localhost:8080/"
        }
      },
      "execution_count": 12,
      "outputs": [
        {
          "output_type": "stream",
          "name": "stdout",
          "text": [
            "dfghjk\n"
          ]
        }
      ]
    },
    {
      "cell_type": "code",
      "source": [
        "f = \"\"\"\n",
        " my name is hardwell\n",
        "\n",
        " and i am a DJ\n",
        "\"\"\"\n",
        "\n",
        "print(f)"
      ],
      "metadata": {
        "id": "vO-WnOz89kVW",
        "outputId": "87e32ffe-c578-4658-9b11-a990b9dd6c7c",
        "colab": {
          "base_uri": "https://localhost:8080/"
        }
      },
      "execution_count": 15,
      "outputs": [
        {
          "output_type": "stream",
          "name": "stdout",
          "text": [
            " \n",
            " my name is hardwell\n",
            "\n",
            " and i am a DJ\n",
            "\n"
          ]
        }
      ]
    }
  ]
}